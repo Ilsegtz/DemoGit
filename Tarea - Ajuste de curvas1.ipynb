{
 "cells": [
  {
   "cell_type": "markdown",
   "metadata": {},
   "source": [
    "# Tarea - Ajuste de curvas"
   ]
  },
  {
   "cell_type": "code",
   "execution_count": 51,
   "metadata": {},
   "outputs": [],
   "source": [
    "import numpy as np\n",
    "import pandas as pd\n",
    "import matplotlib.pyplot as plt"
   ]
  },
  {
   "cell_type": "markdown",
   "metadata": {},
   "source": [
    "---\n",
    "### Problema 1\n",
    "\n",
    "Los siguientes datos representan el costo en dólares de la electricidad según Western Electricity Coordinating Council desde el 2014 (y su pronóstico para el 2040)\n",
    "\n",
    "Tomado de:\n",
    "https://www.quandl.com/data/EIA/AEO_2016_REF_NO_CPP_PRCE_NA_COMM_NA_ELC_NA_WECCRKS_NCNTPKWH_A-Electricity-End-Use-Prices-Commercial-Western-Electricity-Coordinating-Council-Rockies-No-CPP-AEO2016"
   ]
  },
  {
   "cell_type": "code",
   "execution_count": 52,
   "metadata": {},
   "outputs": [],
   "source": [
    "# Datos extraidos de la página de quandl\n",
    "data = np.array([10.051101,  9.259127,  9.444813,  9.557723,  9.977324, 10.298326,\n",
    "       10.447217, 10.550506, 10.590784, 10.657418, 10.743085, 10.831965,\n",
    "       10.988435, 11.153055, 11.313326, 11.557165, 11.860136, 12.122511,\n",
    "       12.356448, 12.611391, 12.814569, 13.111372, 13.357134, 13.559012,\n",
    "       13.85861 , 14.135924, 14.436149])"
   ]
  },
  {
   "cell_type": "code",
   "execution_count": 53,
   "metadata": {},
   "outputs": [
    {
     "data": {
      "text/html": [
       "<div>\n",
       "<style scoped>\n",
       "    .dataframe tbody tr th:only-of-type {\n",
       "        vertical-align: middle;\n",
       "    }\n",
       "\n",
       "    .dataframe tbody tr th {\n",
       "        vertical-align: top;\n",
       "    }\n",
       "\n",
       "    .dataframe thead th {\n",
       "        text-align: right;\n",
       "    }\n",
       "</style>\n",
       "<table border=\"1\" class=\"dataframe\">\n",
       "  <thead>\n",
       "    <tr style=\"text-align: right;\">\n",
       "      <th></th>\n",
       "      <th>Año</th>\n",
       "      <th>Costo</th>\n",
       "    </tr>\n",
       "  </thead>\n",
       "  <tbody>\n",
       "    <tr>\n",
       "      <th>0</th>\n",
       "      <td>2014</td>\n",
       "      <td>10.051101</td>\n",
       "    </tr>\n",
       "    <tr>\n",
       "      <th>1</th>\n",
       "      <td>2015</td>\n",
       "      <td>9.259127</td>\n",
       "    </tr>\n",
       "    <tr>\n",
       "      <th>2</th>\n",
       "      <td>2016</td>\n",
       "      <td>9.444813</td>\n",
       "    </tr>\n",
       "    <tr>\n",
       "      <th>3</th>\n",
       "      <td>2017</td>\n",
       "      <td>9.557723</td>\n",
       "    </tr>\n",
       "    <tr>\n",
       "      <th>4</th>\n",
       "      <td>2018</td>\n",
       "      <td>9.977324</td>\n",
       "    </tr>\n",
       "    <tr>\n",
       "      <th>5</th>\n",
       "      <td>2019</td>\n",
       "      <td>10.298326</td>\n",
       "    </tr>\n",
       "    <tr>\n",
       "      <th>6</th>\n",
       "      <td>2020</td>\n",
       "      <td>10.447217</td>\n",
       "    </tr>\n",
       "    <tr>\n",
       "      <th>7</th>\n",
       "      <td>2021</td>\n",
       "      <td>11.153055</td>\n",
       "    </tr>\n",
       "    <tr>\n",
       "      <th>8</th>\n",
       "      <td>2022</td>\n",
       "      <td>10.590784</td>\n",
       "    </tr>\n",
       "    <tr>\n",
       "      <th>9</th>\n",
       "      <td>2023</td>\n",
       "      <td>10.657418</td>\n",
       "    </tr>\n",
       "    <tr>\n",
       "      <th>10</th>\n",
       "      <td>2024</td>\n",
       "      <td>10.743085</td>\n",
       "    </tr>\n",
       "    <tr>\n",
       "      <th>11</th>\n",
       "      <td>2025</td>\n",
       "      <td>10.831965</td>\n",
       "    </tr>\n",
       "    <tr>\n",
       "      <th>12</th>\n",
       "      <td>2026</td>\n",
       "      <td>10.988435</td>\n",
       "    </tr>\n",
       "    <tr>\n",
       "      <th>13</th>\n",
       "      <td>2027</td>\n",
       "      <td>11.153055</td>\n",
       "    </tr>\n",
       "    <tr>\n",
       "      <th>14</th>\n",
       "      <td>2028</td>\n",
       "      <td>11.313326</td>\n",
       "    </tr>\n",
       "    <tr>\n",
       "      <th>15</th>\n",
       "      <td>2029</td>\n",
       "      <td>11.557165</td>\n",
       "    </tr>\n",
       "    <tr>\n",
       "      <th>16</th>\n",
       "      <td>2030</td>\n",
       "      <td>11.860136</td>\n",
       "    </tr>\n",
       "    <tr>\n",
       "      <th>17</th>\n",
       "      <td>2031</td>\n",
       "      <td>12.122511</td>\n",
       "    </tr>\n",
       "    <tr>\n",
       "      <th>18</th>\n",
       "      <td>2032</td>\n",
       "      <td>12.356448</td>\n",
       "    </tr>\n",
       "    <tr>\n",
       "      <th>19</th>\n",
       "      <td>2033</td>\n",
       "      <td>12.611391</td>\n",
       "    </tr>\n",
       "    <tr>\n",
       "      <th>20</th>\n",
       "      <td>2034</td>\n",
       "      <td>12.814569</td>\n",
       "    </tr>\n",
       "    <tr>\n",
       "      <th>21</th>\n",
       "      <td>2035</td>\n",
       "      <td>13.111372</td>\n",
       "    </tr>\n",
       "    <tr>\n",
       "      <th>22</th>\n",
       "      <td>2036</td>\n",
       "      <td>13.357134</td>\n",
       "    </tr>\n",
       "    <tr>\n",
       "      <th>23</th>\n",
       "      <td>2037</td>\n",
       "      <td>13.559012</td>\n",
       "    </tr>\n",
       "    <tr>\n",
       "      <th>24</th>\n",
       "      <td>2038</td>\n",
       "      <td>13.858610</td>\n",
       "    </tr>\n",
       "    <tr>\n",
       "      <th>25</th>\n",
       "      <td>2039</td>\n",
       "      <td>14.135924</td>\n",
       "    </tr>\n",
       "    <tr>\n",
       "      <th>26</th>\n",
       "      <td>2040</td>\n",
       "      <td>14.436149</td>\n",
       "    </tr>\n",
       "  </tbody>\n",
       "</table>\n",
       "</div>"
      ],
      "text/plain": [
       "     Año      Costo\n",
       "0   2014  10.051101\n",
       "1   2015   9.259127\n",
       "2   2016   9.444813\n",
       "3   2017   9.557723\n",
       "4   2018   9.977324\n",
       "5   2019  10.298326\n",
       "6   2020  10.447217\n",
       "7   2021  11.153055\n",
       "8   2022  10.590784\n",
       "9   2023  10.657418\n",
       "10  2024  10.743085\n",
       "11  2025  10.831965\n",
       "12  2026  10.988435\n",
       "13  2027  11.153055\n",
       "14  2028  11.313326\n",
       "15  2029  11.557165\n",
       "16  2030  11.860136\n",
       "17  2031  12.122511\n",
       "18  2032  12.356448\n",
       "19  2033  12.611391\n",
       "20  2034  12.814569\n",
       "21  2035  13.111372\n",
       "22  2036  13.357134\n",
       "23  2037  13.559012\n",
       "24  2038  13.858610\n",
       "25  2039  14.135924\n",
       "26  2040  14.436149"
      ]
     },
     "execution_count": 53,
     "metadata": {},
     "output_type": "execute_result"
    }
   ],
   "source": [
    "data = pd.read_excel(\"costo.xlsx\")\n",
    "data"
   ]
  },
  {
   "cell_type": "code",
   "execution_count": 54,
   "metadata": {},
   "outputs": [
    {
     "data": {
      "text/plain": [
       "9.259127"
      ]
     },
     "execution_count": 54,
     "metadata": {},
     "output_type": "execute_result"
    }
   ],
   "source": [
    "data[\"Costo\"].min()"
   ]
  },
  {
   "cell_type": "code",
   "execution_count": 55,
   "metadata": {},
   "outputs": [
    {
     "data": {
      "text/plain": [
       "14.436149"
      ]
     },
     "execution_count": 55,
     "metadata": {},
     "output_type": "execute_result"
    }
   ],
   "source": [
    "data[\"Costo\"].max()"
   ]
  },
  {
   "cell_type": "code",
   "execution_count": 56,
   "metadata": {},
   "outputs": [
    {
     "data": {
      "image/png": "[encoded data removed]",
      "text/plain": [
       "<Figure size 432x288 with 1 Axes>"
      ]
     },
     "metadata": {
      "needs_background": "light"
     },
     "output_type": "display_data"
    }
   ],
   "source": [
    "import matplotlib.pyplot as plt\n",
    "\n",
    "x = data[\"Año\"] - 2014\n",
    "y = data[\"Costo\"]\n",
    "plt.figure()\n",
    "plt.scatter(x +2014, y, s=25)\n",
    "plt.grid()"
   ]
  },
  {
   "cell_type": "code",
   "execution_count": 57,
   "metadata": {},
   "outputs": [
    {
     "data": {
      "text/plain": [
       "      fun: 2.866544288607454\n",
       " hess_inv: array([[ 0.07010583, -0.00396825],\n",
       "       [-0.00396825,  0.00030525]])\n",
       "      jac: array([2.77161598e-06, 1.78813934e-06])\n",
       "  message: 'Optimization terminated successfully.'\n",
       "     nfev: 21\n",
       "      nit: 4\n",
       "     njev: 7\n",
       "   status: 0\n",
       "  success: True\n",
       "        x: array([9.16668595, 0.18446341])"
      ]
     },
     "execution_count": 57,
     "metadata": {},
     "output_type": "execute_result"
    }
   ],
   "source": [
    "import scipy.optimize as opt\n",
    "\n",
    "def funcion_de_costo_1(theta, x, y) :\n",
    "    prediccion = theta[0] + theta[1]*x\n",
    "    error = y - prediccion\n",
    "    error_2 = error**2\n",
    "    return np.sum(error_2)\n",
    "\n",
    "theta_inicial_1 = np.random.rand(2)\n",
    "sol = opt.minimize(funcion_de_costo_1,\n",
    "                   theta_inicial_1,\n",
    "                   args=(x, y))\n",
    "costo_1 = sol.fun\n",
    "resultados_1 = sol.x\n",
    "sol"
   ]
  },
  {
   "cell_type": "code",
   "execution_count": 58,
   "metadata": {},
   "outputs": [
    {
     "data": {
      "text/plain": [
       "      fun: 1.468159848182989\n",
       " hess_inv: array([[ 1.44225501e-01, -2.17569779e-02,  6.84181695e-04],\n",
       "       [-2.17569779e-02,  4.57454412e-03, -1.64203609e-04],\n",
       "       [ 6.84181695e-04, -1.64203609e-04,  6.31552346e-06]])\n",
       "      jac: array([-5.06639481e-07, -2.38418579e-07,  7.30156898e-07])\n",
       "  message: 'Optimization terminated successfully.'\n",
       "     nfev: 28\n",
       "      nit: 4\n",
       "     njev: 7\n",
       "   status: 0\n",
       "  success: True\n",
       "        x: array([9.62195800e+00, 7.51980745e-02, 4.20251321e-03])"
      ]
     },
     "execution_count": 58,
     "metadata": {},
     "output_type": "execute_result"
    }
   ],
   "source": [
    "def funcion_de_costo_2(theta, x, y) :\n",
    "    prediccion = theta[0] + theta[1]*x + theta[2]*x**2\n",
    "    error = y - prediccion\n",
    "    error_2 = error**2\n",
    "    return np.sum(error_2)\n",
    "\n",
    "theta_inicial_2 = np.random.rand(3)\n",
    "sol = opt.minimize(funcion_de_costo_2,\n",
    "                   theta_inicial_2,\n",
    "                   args=(x, y))\n",
    "costo_2 = sol.fun\n",
    "resultados_2 = sol.x\n",
    "sol"
   ]
  },
  {
   "cell_type": "code",
   "execution_count": 59,
   "metadata": {},
   "outputs": [
    {
     "data": {
      "text/plain": [
       "      fun: 1.4278246617685104\n",
       " hess_inv: array([[ 2.27239826e-01, -6.41151415e-02,  4.83484862e-03,\n",
       "        -1.06427367e-04],\n",
       "       [-6.41151415e-02,  2.61897388e-02, -2.28230211e-03,\n",
       "         5.43101124e-05],\n",
       "       [ 4.83484862e-03, -2.28230211e-03,  2.13870986e-04,\n",
       "        -5.32192269e-06],\n",
       "       [-1.06427367e-04,  5.43101124e-05, -5.32192269e-06,\n",
       "         1.36459247e-07]])\n",
       "      jac: array([-2.80141830e-06, -1.92224979e-06, -1.87903643e-05, -4.13790345e-04])\n",
       "  message: 'Desired error not necessarily achieved due to precision loss.'\n",
       "     nfev: 227\n",
       "      nit: 9\n",
       "     njev: 43\n",
       "   status: 2\n",
       "  success: False\n",
       "        x: array([9.54201771e+00, 1.15988009e-01, 2.05512600e-04, 1.02487159e-04])"
      ]
     },
     "execution_count": 59,
     "metadata": {},
     "output_type": "execute_result"
    }
   ],
   "source": [
    "def funcion_de_costo_3(theta, x, y) :\n",
    "    prediccion = theta[0] + theta[1]*x + theta[2]*x**2 + theta[3]*x**3\n",
    "    error = y - prediccion\n",
    "    error_2 = error**2\n",
    "    return np.sum(error_2)\n",
    "\n",
    "theta_inicial_3 = np.random.rand(4)\n",
    "sol = opt.minimize(funcion_de_costo_3,\n",
    "                   theta_inicial_3,\n",
    "                   args=(x, y))\n",
    "costo_3 = sol.fun\n",
    "resultados_3 = sol.x\n",
    "sol"
   ]
  },
  {
   "cell_type": "markdown",
   "metadata": {},
   "source": [
    "1. Ajuste estos datos a polinomios de grado 1 hasta 3 (los datos en $x$ corresponden a los años de 2014 a 2040, sin embargo son valores muy grandes para elevarlos a una potencia, use una representación para estos años, por ejemplo $2014 \\rightarrow 0$ y $2040\\rightarrow 26$).\n",
    "\n",
    "2. Muestre las tres curvas ajustadas junto a los datos de los costos en un solo gráfico"
   ]
  },
  {
   "cell_type": "code",
   "execution_count": 60,
   "metadata": {},
   "outputs": [
    {
     "data": {
      "text/plain": [
       "<matplotlib.legend.Legend at 0x18b40c68be0>"
      ]
     },
     "execution_count": 60,
     "metadata": {},
     "output_type": "execute_result"
    },
    {
     "data": {
      "image/png": "[encoded data removed]",
      "text/plain": [
       "<Figure size 432x288 with 1 Axes>"
      ]
     },
     "metadata": {
      "needs_background": "light"
     },
     "output_type": "display_data"
    }
   ],
   "source": [
    "xn = np.linspace(0, 35, 200)\n",
    "yn1 = resultados_1[0] + resultados_1[1]*xn\n",
    "yn2 = resultados_2[0] + resultados_2[1]*xn + resultados_2[2]*xn**2\n",
    "yn3 = resultados_3[0] + resultados_3[1]*xn + resultados_3[2]*xn**2 + resultados_3[3]*xn**3\n",
    "\n",
    "import matplotlib.pyplot as plt\n",
    "plt.figure()\n",
    "plt.scatter(x, y, s=5)\n",
    "plt.plot(xn, yn1, label=\"Lineal\")\n",
    "plt.plot(xn, yn2, label=\"Cuadratica\")\n",
    "plt.plot(xn, yn3, label=\"Cubo\")\n",
    "plt.legend(loc=\"best\")"
   ]
  },
  {
   "cell_type": "code",
   "execution_count": 61,
   "metadata": {},
   "outputs": [
    {
     "data": {
      "image/png": "[encoded data removed]",
      "text/plain": [
       "<Figure size 432x288 with 1 Axes>"
      ]
     },
     "metadata": {
      "needs_background": "light"
     },
     "output_type": "display_data"
    }
   ],
   "source": [
    "plt.figure()\n",
    "plt.bar([1, 2, 3], [costo_1, costo_2, costo_3])\n",
    "plt.grid()\n"
   ]
  },
  {
   "cell_type": "markdown",
   "metadata": {},
   "source": [
    "---"
   ]
  },
  {
   "cell_type": "markdown",
   "metadata": {},
   "source": [
    "___\n",
    "### Problema 2\n",
    "\n",
    "El archivo `population_data.csv` contiene información histórica anual de México relativa a la población, nacimientos y muertes desde el año 1950 hasta el año 2015. La primer columna corresponde a los años, la segunda a la población, la tercera a los nacimientos y la última a los decesos.\n",
    "\n",
    "Tomado de: https://en.wikipedia.org/wiki/Demographics_of_Mexico.\n",
    "\n",
    "Importe estos datos usando la función `read_csv` del paquete `pandas`\n",
    "\n",
    "1. Usando los años como variable independiente $x$ y la población como variable dependiente $y$, ajustar polinomios de grado 1 hasta grado 3.\n",
    "\n",
    "    * Mostrar en un solo gráfico los datos de población contra los años, y los polinomios ajustados.\n",
    "\n",
    "    * Graficar el error cuadrático acumulado contra el número de términos.\n",
    "\n",
    "2. Repetir el punto 1 usando los nacimientos como variable dependiente $y$. Grafique las curvas ajustadas junto con los datos de nacimientos. Vea en un gráfico el error acumulado."
   ]
  },
  {
   "cell_type": "code",
   "execution_count": 63,
   "metadata": {},
   "outputs": [
    {
     "data": {
      "text/html": [
       "<div>\n",
       "<style scoped>\n",
       "    .dataframe tbody tr th:only-of-type {\n",
       "        vertical-align: middle;\n",
       "    }\n",
       "\n",
       "    .dataframe tbody tr th {\n",
       "        vertical-align: top;\n",
       "    }\n",
       "\n",
       "    .dataframe thead th {\n",
       "        text-align: right;\n",
       "    }\n",
       "</style>\n",
       "<table border=\"1\" class=\"dataframe\">\n",
       "  <thead>\n",
       "    <tr style=\"text-align: right;\">\n",
       "      <th></th>\n",
       "      <th>Year</th>\n",
       "      <th>Poblacion</th>\n",
       "      <th>Nacimientos</th>\n",
       "      <th>Decesos</th>\n",
       "    </tr>\n",
       "  </thead>\n",
       "  <tbody>\n",
       "    <tr>\n",
       "      <th>0</th>\n",
       "      <td>1950</td>\n",
       "      <td>28296</td>\n",
       "      <td>1174947</td>\n",
       "      <td>418430</td>\n",
       "    </tr>\n",
       "    <tr>\n",
       "      <th>1</th>\n",
       "      <td>1951</td>\n",
       "      <td>29110</td>\n",
       "      <td>1183788</td>\n",
       "      <td>458238</td>\n",
       "    </tr>\n",
       "    <tr>\n",
       "      <th>2</th>\n",
       "      <td>1952</td>\n",
       "      <td>29980</td>\n",
       "      <td>1195209</td>\n",
       "      <td>408823</td>\n",
       "    </tr>\n",
       "    <tr>\n",
       "      <th>3</th>\n",
       "      <td>1953</td>\n",
       "      <td>30904</td>\n",
       "      <td>1261775</td>\n",
       "      <td>446127</td>\n",
       "    </tr>\n",
       "    <tr>\n",
       "      <th>4</th>\n",
       "      <td>1954</td>\n",
       "      <td>31880</td>\n",
       "      <td>1339837</td>\n",
       "      <td>378752</td>\n",
       "    </tr>\n",
       "  </tbody>\n",
       "</table>\n",
       "</div>"
      ],
      "text/plain": [
       "   Year  Poblacion  Nacimientos  Decesos\n",
       "0  1950      28296      1174947   418430\n",
       "1  1951      29110      1183788   458238\n",
       "2  1952      29980      1195209   408823\n",
       "3  1953      30904      1261775   446127\n",
       "4  1954      31880      1339837   378752"
      ]
     },
     "execution_count": 63,
     "metadata": {},
     "output_type": "execute_result"
    }
   ],
   "source": [
    "import pandas as pd\n",
    "data_2 = pd.read_csv('population_data.csv')\n",
    "data_2.head()"
   ]
  },
  {
   "cell_type": "code",
   "execution_count": 64,
   "metadata": {},
   "outputs": [
    {
     "data": {
      "image/png": "[encoded data removed]",
      "text/plain": [
       "<Figure size 432x288 with 1 Axes>"
      ]
     },
     "metadata": {
      "needs_background": "light"
     },
     "output_type": "display_data"
    }
   ],
   "source": [
    "import matplotlib.pyplot as plt\n",
    "\n",
    "x2 = data_2[\"Year\"] - 1950\n",
    "y2 = data_2[\"Poblacion\"] \n",
    "plt.figure()\n",
    "plt.scatter(x2 + 1950, y2, s=5)\n",
    "plt.grid()"
   ]
  },
  {
   "cell_type": "code",
   "execution_count": null,
   "metadata": {},
   "outputs": [],
   "source": []
  },
  {
   "cell_type": "code",
   "execution_count": 65,
   "metadata": {},
   "outputs": [
    {
     "data": {
      "text/plain": [
       "      fun: 212137169.55821073\n",
       " hess_inv: array([[3.47137380e-08, 5.85498128e-07],\n",
       "       [5.85498128e-07, 1.18729245e-05]])\n",
       "      jac: array([0., 0.])\n",
       "  message: 'Optimization terminated successfully.'\n",
       "     nfev: 117\n",
       "      nit: 14\n",
       "     njev: 39\n",
       "   status: 0\n",
       "  success: True\n",
       "        x: array([24137.98709945,  1543.97406128])"
      ]
     },
     "execution_count": 65,
     "metadata": {},
     "output_type": "execute_result"
    }
   ],
   "source": [
    "\n",
    "sol2 = opt.minimize(funcion_de_costo_1,\n",
    "                   theta_inicial_1,\n",
    "                   args=(x2, y2))\n",
    "costo_2 = sol2.fun\n",
    "resultados_2 = sol2.x\n",
    "sol2"
   ]
  },
  {
   "cell_type": "code",
   "execution_count": 66,
   "metadata": {},
   "outputs": [
    {
     "data": {
      "text/plain": [
       "      fun: 210941621.4561555\n",
       " hess_inv: array([[ 1.61239624e-02,  6.35343728e-06, -6.35761186e-06],\n",
       "       [ 6.35343728e-06,  5.01635000e-09, -4.66812722e-09],\n",
       "       [-6.35761186e-06, -4.66812722e-09,  4.66310771e-09]])\n",
       "      jac: array([0., 0., 2.])\n",
       "  message: 'Desired error not necessarily achieved due to precision loss.'\n",
       "     nfev: 344\n",
       "      nit: 10\n",
       "     njev: 83\n",
       "   status: 2\n",
       "  success: False\n",
       "        x: array([2.44256275e+04, 1.51701101e+03, 4.14800065e-01])"
      ]
     },
     "execution_count": 66,
     "metadata": {},
     "output_type": "execute_result"
    }
   ],
   "source": [
    "\n",
    "sol22 = opt.minimize(funcion_de_costo_2,\n",
    "                   theta_inicial_2,\n",
    "                   args=(x2, y2))\n",
    "costo_22 = sol22.fun\n",
    "resultados_22 = sol22.x\n",
    "sol22"
   ]
  },
  {
   "cell_type": "code",
   "execution_count": 67,
   "metadata": {},
   "outputs": [
    {
     "data": {
      "text/plain": [
       "      fun: 25240442.639243323\n",
       " hess_inv: array([[ 5.14971782e-02, -2.21213882e-03,  6.06814865e-09,\n",
       "         4.01122772e-07],\n",
       "       [-2.21213882e-03,  1.28456854e-04, -1.08730092e-09,\n",
       "        -2.81275655e-08],\n",
       "       [ 6.06814865e-09, -1.08730092e-09,  4.03730382e-11,\n",
       "        -4.02344824e-13],\n",
       "       [ 4.01122772e-07, -2.81275655e-08, -4.02344824e-13,\n",
       "         7.36601459e-12]])\n",
       "      jac: array([ 0.  ,  0.  , -0.25,  0.  ])\n",
       "  message: 'Desired error not necessarily achieved due to precision loss.'\n",
       "     nfev: 332\n",
       "      nit: 11\n",
       "     njev: 64\n",
       "   status: 2\n",
       "  success: False\n",
       "        x: array([ 2.84777546e+04,  7.39079480e+02,  3.05648612e+01, -3.09231765e-01])"
      ]
     },
     "execution_count": 67,
     "metadata": {},
     "output_type": "execute_result"
    }
   ],
   "source": [
    "\n",
    "sol23 = opt.minimize(funcion_de_costo_3,\n",
    "                   theta_inicial_3,\n",
    "                   args=(x2, y2))\n",
    "costo_23 = sol23.fun\n",
    "resultados_23 = sol23.x\n",
    "sol23"
   ]
  },
  {
   "cell_type": "code",
   "execution_count": 68,
   "metadata": {},
   "outputs": [
    {
     "data": {
      "text/plain": [
       "<matplotlib.legend.Legend at 0x18b40c32b80>"
      ]
     },
     "execution_count": 68,
     "metadata": {},
     "output_type": "execute_result"
    },
    {
     "data": {
      "image/png": "[encoded data removed]",
      "text/plain": [
       "<Figure size 432x288 with 1 Axes>"
      ]
     },
     "metadata": {
      "needs_background": "light"
     },
     "output_type": "display_data"
    }
   ],
   "source": [
    "import matplotlib.pyplot as plt\n",
    "\n",
    "plt.figure()\n",
    "plt.scatter(x2, y2, s=5) \n",
    "plt.plot(x2, sol2.x[0] + sol2.x[1]*x2, \"g\", label=\"Lineal\") \n",
    "plt.plot(x2, sol22.x[0] + sol22.x[1]*x2 + sol22.x[2]*x2**2, \"r\", label=\"Cuadratica\") \n",
    "plt.plot(x2, sol23.x[0] + sol23.x[1]*x2 + sol23.x[2]*x2**2 + sol23.x[3]*x2**3, \"y\", label=\"Cubo\") \n",
    "plt.grid()\n",
    "plt.legend(loc=\"best\")"
   ]
  },
  {
   "cell_type": "code",
   "execution_count": 69,
   "metadata": {},
   "outputs": [
    {
     "data": {
      "image/png": "[encoded data removed]",
      "text/plain": [
       "<Figure size 432x288 with 1 Axes>"
      ]
     },
     "metadata": {
      "needs_background": "light"
     },
     "output_type": "display_data"
    }
   ],
   "source": [
    "plt.figure()\n",
    "plt.bar([1, 2, 3], [costo_2, costo_22, costo_23])\n",
    "plt.grid()\n"
   ]
  },
  {
   "cell_type": "markdown",
   "metadata": {},
   "source": [
    "### Punto 2"
   ]
  },
  {
   "cell_type": "code",
   "execution_count": 70,
   "metadata": {},
   "outputs": [
    {
     "data": {
      "image/png": "[encoded data removed]",
      "text/plain": [
       "<Figure size 432x288 with 1 Axes>"
      ]
     },
     "metadata": {
      "needs_background": "light"
     },
     "output_type": "display_data"
    }
   ],
   "source": [
    "import matplotlib.pyplot as plt\n",
    "\n",
    "x2 = data_2[\"Year\"] - 1950\n",
    "y3 = data_2[\"Nacimientos\"] \n",
    "plt.figure()\n",
    "plt.scatter(x + 1950, y, s=10)\n",
    "plt.grid()"
   ]
  },
  {
   "cell_type": "code",
   "execution_count": 71,
   "metadata": {},
   "outputs": [
    {
     "data": {
      "text/plain": [
       "      fun: 4737913718624.1455\n",
       " hess_inv: array([[ 2.97526477e-02, -6.80295897e-04],\n",
       "       [-6.80295897e-04,  2.08942535e-05]])\n",
       "      jac: array([0., 0.])\n",
       "  message: 'Optimization terminated successfully.'\n",
       "     nfev: 42\n",
       "      nit: 5\n",
       "     njev: 14\n",
       "   status: 0\n",
       "  success: True\n",
       "        x: array([1563285.77055023,   21969.77231645])"
      ]
     },
     "execution_count": 71,
     "metadata": {},
     "output_type": "execute_result"
    }
   ],
   "source": [
    "\n",
    "sol3 = opt.minimize(funcion_de_costo_1,\n",
    "                   theta_inicial_1,\n",
    "                   args=(x2, y3))\n",
    "costo_3 = sol3.fun\n",
    "resultados_3 = sol3.x\n",
    "sol3"
   ]
  },
  {
   "cell_type": "code",
   "execution_count": 72,
   "metadata": {},
   "outputs": [
    {
     "data": {
      "text/plain": [
       "      fun: 492921083481.38995\n",
       " hess_inv: array([[ 9.32078806e-02, -5.69164659e-03,  7.24180100e-05],\n",
       "       [-5.69164659e-03,  4.33058057e-04, -6.04992499e-06],\n",
       "       [ 7.24180100e-05, -6.04992499e-06,  8.92197975e-08]])\n",
       "      jac: array([ -4096.,   4096., 274432.])\n",
       "  message: 'Desired error not necessarily achieved due to precision loss.'\n",
       "     nfev: 236\n",
       "      nit: 8\n",
       "     njev: 56\n",
       "   status: 2\n",
       "  success: False\n",
       "        x: array([ 1.02117480e+06,  7.27739945e+04, -7.81512423e+02])"
      ]
     },
     "execution_count": 72,
     "metadata": {},
     "output_type": "execute_result"
    }
   ],
   "source": [
    "sol32 = opt.minimize(funcion_de_costo_2,\n",
    "                   theta_inicial_2,\n",
    "                   args=(x2, y3))\n",
    "costo_32 = sol32.fun\n",
    "resultados_32 = sol32.x\n",
    "sol32"
   ]
  },
  {
   "cell_type": "code",
   "execution_count": 73,
   "metadata": {},
   "outputs": [
    {
     "data": {
      "text/plain": [
       "      fun: 441782319073.0247\n",
       " hess_inv: array([[ 3.44191494e-02, -3.17211529e-03,  8.03193306e-05,\n",
       "        -6.20615816e-07],\n",
       "       [-3.17211529e-03,  5.92425695e-04, -2.17899626e-05,\n",
       "         2.14623087e-07],\n",
       "       [ 8.03193306e-05, -2.17899626e-05,  9.42234316e-07,\n",
       "        -1.01733043e-08],\n",
       "       [-6.20615816e-07,  2.14623087e-07, -1.01733043e-08,\n",
       "         1.15722905e-10]])\n",
       "      jac: array([     0.,      0.,   4096., 147456.])\n",
       "  message: 'Desired error not necessarily achieved due to precision loss.'\n",
       "     nfev: 281\n",
       "      nit: 13\n",
       "     njev: 54\n",
       "   status: 2\n",
       "  success: False\n",
       "        x: array([ 1.08834892e+06,  5.98683739e+04, -2.81223935e+02, -5.13171031e+00])"
      ]
     },
     "execution_count": 73,
     "metadata": {},
     "output_type": "execute_result"
    }
   ],
   "source": [
    "sol33 = opt.minimize(funcion_de_costo_3,\n",
    "                   theta_inicial_3,\n",
    "                   args=(x2, y3))\n",
    "costo_33 = sol33.fun\n",
    "resultados_33 = sol33.x\n",
    "sol33"
   ]
  },
  {
   "cell_type": "code",
   "execution_count": 74,
   "metadata": {},
   "outputs": [
    {
     "data": {
      "text/plain": [
       "<matplotlib.legend.Legend at 0x18b40723520>"
      ]
     },
     "execution_count": 74,
     "metadata": {},
     "output_type": "execute_result"
    },
    {
     "data": {
      "image/png": "[encoded data removed]",
      "text/plain": [
       "<Figure size 432x288 with 1 Axes>"
      ]
     },
     "metadata": {
      "needs_background": "light"
     },
     "output_type": "display_data"
    }
   ],
   "source": [
    "import matplotlib.pyplot as plt\n",
    "\n",
    "plt.figure()\n",
    "plt.scatter(x2, y3, s=5) \n",
    "plt.plot(x2, sol3.x[0] + sol3.x[1]*x2, \"g\", label=\"Lineal\") \n",
    "plt.plot(x2, sol32.x[0] + sol32.x[1]*x2 + sol32.x[2]*x2**2, \"r\", label=\"Cuadratica\") \n",
    "plt.plot(x2, sol33.x[0] + sol33.x[1]*x2 + sol33.x[2]*x2**2 + sol33.x[3]*x2**3, \"y\", label=\"Cubo\") \n",
    "plt.grid()\n",
    "plt.legend(loc=\"best\")"
   ]
  },
  {
   "cell_type": "code",
   "execution_count": 75,
   "metadata": {},
   "outputs": [
    {
     "data": {
      "image/png": "[encoded data removed]",
      "text/plain": [
       "<Figure size 432x288 with 1 Axes>"
      ]
     },
     "metadata": {
      "needs_background": "light"
     },
     "output_type": "display_data"
    }
   ],
   "source": [
    "plt.figure()\n",
    "plt.bar([1, 2, 3], [costo_3, costo_32, costo_33])\n",
    "plt.grid()\n"
   ]
  },
  {
   "cell_type": "code",
   "execution_count": 76,
   "metadata": {},
   "outputs": [
    {
     "ename": "IndexError",
     "evalue": "index 2 is out of bounds for axis 1 with size 2",
     "output_type": "error",
     "traceback": [
      "\u001b[1;31m---------------------------------------------------------------------------\u001b[0m",
      "\u001b[1;31mIndexError\u001b[0m                                Traceback (most recent call last)",
      "\u001b[1;32m~\\AppData\\Local\\Temp/ipykernel_13704/1933857968.py\u001b[0m in \u001b[0;36m<module>\u001b[1;34m\u001b[0m\n\u001b[0;32m      3\u001b[0m \u001b[1;33m\u001b[0m\u001b[0m\n\u001b[0;32m      4\u001b[0m \u001b[0mplt\u001b[0m\u001b[1;33m.\u001b[0m\u001b[0mplot\u001b[0m\u001b[1;33m(\u001b[0m\u001b[0mdata\u001b[0m\u001b[1;33m.\u001b[0m\u001b[0mvalues\u001b[0m\u001b[1;33m[\u001b[0m\u001b[1;33m:\u001b[0m\u001b[1;33m,\u001b[0m\u001b[1;36m0\u001b[0m\u001b[1;33m]\u001b[0m\u001b[1;33m,\u001b[0m\u001b[0mdata\u001b[0m\u001b[1;33m.\u001b[0m\u001b[0mvalues\u001b[0m\u001b[1;33m[\u001b[0m\u001b[1;33m:\u001b[0m\u001b[1;33m,\u001b[0m\u001b[1;36m1\u001b[0m\u001b[1;33m]\u001b[0m\u001b[1;33m/\u001b[0m\u001b[1;36m1000\u001b[0m\u001b[1;33m,\u001b[0m\u001b[0mlabel\u001b[0m\u001b[1;33m=\u001b[0m\u001b[0mdata\u001b[0m\u001b[1;33m.\u001b[0m\u001b[0mcolumns\u001b[0m\u001b[1;33m[\u001b[0m\u001b[1;36m1\u001b[0m\u001b[1;33m]\u001b[0m\u001b[1;33m+\u001b[0m\u001b[1;34m' en miles'\u001b[0m\u001b[1;33m)\u001b[0m\u001b[1;33m\u001b[0m\u001b[1;33m\u001b[0m\u001b[0m\n\u001b[1;32m----> 5\u001b[1;33m \u001b[0mplt\u001b[0m\u001b[1;33m.\u001b[0m\u001b[0mplot\u001b[0m\u001b[1;33m(\u001b[0m\u001b[0mdata\u001b[0m\u001b[1;33m.\u001b[0m\u001b[0mvalues\u001b[0m\u001b[1;33m[\u001b[0m\u001b[1;33m:\u001b[0m\u001b[1;33m,\u001b[0m\u001b[1;36m0\u001b[0m\u001b[1;33m]\u001b[0m\u001b[1;33m,\u001b[0m\u001b[0mdata\u001b[0m\u001b[1;33m.\u001b[0m\u001b[0mvalues\u001b[0m\u001b[1;33m[\u001b[0m\u001b[1;33m:\u001b[0m\u001b[1;33m,\u001b[0m\u001b[1;36m2\u001b[0m\u001b[1;33m]\u001b[0m\u001b[1;33m/\u001b[0m\u001b[1;36m10000\u001b[0m\u001b[1;33m,\u001b[0m\u001b[1;34m'r'\u001b[0m\u001b[1;33m,\u001b[0m\u001b[0mlabel\u001b[0m\u001b[1;33m=\u001b[0m\u001b[0mdata\u001b[0m\u001b[1;33m.\u001b[0m\u001b[0mcolumns\u001b[0m\u001b[1;33m[\u001b[0m\u001b[1;36m2\u001b[0m\u001b[1;33m]\u001b[0m\u001b[1;33m+\u001b[0m\u001b[1;34m' en decenas de miles'\u001b[0m\u001b[1;33m)\u001b[0m\u001b[1;33m\u001b[0m\u001b[1;33m\u001b[0m\u001b[0m\n\u001b[0m\u001b[0;32m      6\u001b[0m \u001b[0mplt\u001b[0m\u001b[1;33m.\u001b[0m\u001b[0mlegend\u001b[0m\u001b[1;33m(\u001b[0m\u001b[0mloc\u001b[0m\u001b[1;33m=\u001b[0m\u001b[1;36m2\u001b[0m\u001b[1;33m)\u001b[0m\u001b[1;33m\u001b[0m\u001b[1;33m\u001b[0m\u001b[0m\n\u001b[0;32m      7\u001b[0m \u001b[0mplt\u001b[0m\u001b[1;33m.\u001b[0m\u001b[0mxlabel\u001b[0m\u001b[1;33m(\u001b[0m\u001b[0mdata\u001b[0m\u001b[1;33m.\u001b[0m\u001b[0mcolumns\u001b[0m\u001b[1;33m[\u001b[0m\u001b[1;36m0\u001b[0m\u001b[1;33m]\u001b[0m\u001b[1;33m)\u001b[0m\u001b[1;33m\u001b[0m\u001b[1;33m\u001b[0m\u001b[0m\n",
      "\u001b[1;31mIndexError\u001b[0m: index 2 is out of bounds for axis 1 with size 2"
     ]
    },
    {
     "data": {
      "image/png": "[encoded data removed]",
      "text/plain": [
       "<Figure size 432x288 with 1 Axes>"
      ]
     },
     "metadata": {
      "needs_background": "light"
     },
     "output_type": "display_data"
    }
   ],
   "source": [
    "# Se muestra la gráfica. Vea como los datos son escalados, esto le ayudará en el cálculo\n",
    "# de la regresión.\n",
    "\n",
    "plt.plot(data.values[:,0],data.values[:,1]/1000,label=data.columns[1]+' en miles')\n",
    "plt.plot(data.values[:,0],data.values[:,2]/10000,'r',label=data.columns[2]+' en decenas de miles')\n",
    "plt.legend(loc=2)\n",
    "plt.xlabel(data.columns[0])\n",
    "plt.grid()"
   ]
  },
  {
   "cell_type": "markdown",
   "metadata": {},
   "source": [
    "---"
   ]
  },
  {
   "cell_type": "code",
   "execution_count": null,
   "metadata": {},
   "outputs": [],
   "source": []
  },
  {
   "cell_type": "code",
   "execution_count": null,
   "metadata": {},
   "outputs": [],
   "source": []
  },
  {
   "cell_type": "code",
   "execution_count": null,
   "metadata": {},
   "outputs": [],
   "source": []
  }
 ],
 "metadata": {
  "kernelspec": {
   "display_name": "Python 3 (ipykernel)",
   "language": "python",
   "name": "python3"
  },
  "language_info": {
   "codemirror_mode": {
    "name": "ipython",
    "version": 3
   },
   "file_extension": ".py",
   "mimetype": "text/x-python",
   "name": "python",
   "nbconvert_exporter": "python",
   "pygments_lexer": "ipython3",
   "version": "3.9.7"
  }
 },
 "nbformat": 4,
 "nbformat_minor": 2
}
